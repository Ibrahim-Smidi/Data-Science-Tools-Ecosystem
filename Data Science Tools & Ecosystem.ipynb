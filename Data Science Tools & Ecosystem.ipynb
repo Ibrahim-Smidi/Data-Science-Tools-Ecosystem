{
 "cells": [
  {
   "cell_type": "markdown",
   "id": "9f0741d0",
   "metadata": {},
   "source": [
    "Data Science Tools & Ecosystem\n"
   ]
  },
  {
   "cell_type": "markdown",
   "id": "3a657e4d",
   "metadata": {},
   "source": [
    "Data science tools are software programs, frameworks, and platforms that enable data scientists, analysts, and engineers to collect, process, analyze, and visualize data effectively. These tools make it easier to work with large and complex datasets, automate repetitive tasks, and develop predictive models and insights from data."
   ]
  },
  {
   "cell_type": "markdown",
   "id": "4690d115",
   "metadata": {},
   "source": [
    "Data science languages : \n",
    "\n",
    "1. Python: Python is one of the most popular programming languages used in data science due to its simplicity, readability, and versatility. It has many libraries for data analysis, visualization, and machine learning, such as NumPy, Pandas, Matplotlib, and Scikit-learn.\n",
    "\n",
    "2. R: R is another popular language used in data science, especially for statistical analysis and visualization. It has many libraries for data manipulation, visualization, and modeling, such as ggplot2, dplyr, and caret.\n",
    "\n",
    "3. SQL: SQL (Structured Query Language) is a domain-specific language used for managing relational databases. It is essential for data cleaning, aggregation, and retrieval.\n",
    "\n",
    "4. Julia: Julia is a relatively new language that combines the ease of use of Python and the performance of C++. It is gaining popularity in scientific computing, especially for large-scale and high-performance computing.\n",
    "\n",
    "5. Java: Java is a general-purpose language that is commonly used in big data processing and machine learning due to its scalability and performance. It has libraries such as Weka and Mahout for machine learning.\n",
    "\n",
    "6. MATLAB: MATLAB is a proprietary language used in engineering and scientific computing. It has many built-in functions and toolboxes for numerical analysis, optimization, and signal processing.\n"
   ]
  },
  {
   "cell_type": "markdown",
   "id": "7dd5b9bc",
   "metadata": {},
   "source": [
    "Data science libraries :\n",
    "\n",
    "1. NumPy: A Python library used for numerical computing with arrays and matrices.\n",
    "\n",
    "2. Pandas: A Python library used for data manipulation and analysis.\n",
    "\n",
    "3. Matplotlib: A Python library used for data visualization.\n",
    "\n",
    "4. Scikit-learn: A Python library used for machine learning tasks such as classification, regression, and clustering.\n",
    "\n",
    "5. TensorFlow: A Python library used for building and training deep learning models.\n",
    "\n",
    "6. ggplot2: An R library used for data visualization.\n",
    "\n",
    "6. dplyr: An R library used for data manipulation and filtering.\n",
    "\n",
    "7. tidyverse: A collection of R libraries used for data manipulation, visualization, and analysis.\n",
    "\n",
    "8. JuliaDB: A Julia library used for distributed and parallel computing with large datasets."
   ]
  },
  {
   "cell_type": "markdown",
   "id": "ac5ab49b",
   "metadata": {},
   "source": [
    "| Data science tools | Definition\n",
    "| --- | --- | \n",
    "| Python | Python is one of the most popular programming languages used in data science due to its simplicity, readability, and versatility\n",
    "| R Studio  | R is another popular language used in data science, especially for statistical analysis and visualization \n",
    "| SQL | SQL (Structured Query Language) is a domain-specific language used for managing relational databases. It is essential for data cleaning, aggregation, and retrieval\n"
   ]
  },
  {
   "cell_type": "markdown",
   "id": "47600da8",
   "metadata": {},
   "source": [
    "Arithmetic expressions are mathematical formulas that combine numbers and operators to perform calculations. Here are some common examples of arithmetic expressions.\n",
    "\n",
    "* 2 + 3 = 5 : addition de 2 et 3\n",
    "* 5 - 2 = 3 : soustraction de 2 à partir de 5\n",
    "* 4 * 3 = 12 : multiplication de 4 par 3\n",
    "* 10 / 2 = 5 : division de 10 par 2\n",
    "* 2 ** 3 = 8 : 2 à la puissance de 3\n"
   ]
  },
  {
   "cell_type": "code",
   "execution_count": 3,
   "id": "4bb03c86",
   "metadata": {},
   "outputs": [
    {
     "name": "stdout",
     "output_type": "stream",
     "text": [
      "10\n"
     ]
    }
   ],
   "source": [
    "# Multiply and add numbers\n",
    "a = 2\n",
    "b = 3\n",
    "c = 4\n",
    "result = (a * b) + c\n",
    "print(result)\n"
   ]
  },
  {
   "cell_type": "code",
   "execution_count": 2,
   "id": "d8e3c1a2",
   "metadata": {},
   "outputs": [
    {
     "name": "stdout",
     "output_type": "stream",
     "text": [
      "2.0\n"
     ]
    }
   ],
   "source": [
    "# Convert minutes to hours\n",
    "minutes = 120\n",
    "hours = minutes / 60\n",
    "print(hours)\n"
   ]
  },
  {
   "cell_type": "markdown",
   "id": "fc70d0d1",
   "metadata": {},
   "source": [
    "Objectives:\n",
    "1. Learn the basics of data science\n",
    "2. Understand data visualization techniques\n",
    "3. Gain proficiency in Python programming\n",
    "4. Explore statistical analysis methods\n",
    "5. Develop machine learning skills\n",
    "6. Apply data science to real-world problems"
   ]
  },
  {
   "cell_type": "markdown",
   "id": "8ddce08e",
   "metadata": {},
   "source": [
    "This notebook was created by Ibrahim Khalil Smidi "
   ]
  }
 ],
 "metadata": {
  "kernelspec": {
   "display_name": "Python 3 (ipykernel)",
   "language": "python",
   "name": "python3"
  },
  "language_info": {
   "codemirror_mode": {
    "name": "ipython",
    "version": 3
   },
   "file_extension": ".py",
   "mimetype": "text/x-python",
   "name": "python",
   "nbconvert_exporter": "python",
   "pygments_lexer": "ipython3",
   "version": "3.9.13"
  }
 },
 "nbformat": 4,
 "nbformat_minor": 5
}
